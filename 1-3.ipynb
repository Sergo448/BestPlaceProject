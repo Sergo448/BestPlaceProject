{
 "cells": [
  {
   "cell_type": "code",
   "execution_count": 1,
   "id": "c355e45e",
   "metadata": {},
   "outputs": [],
   "source": [
    "import pandas as pd"
   ]
  },
  {
   "cell_type": "code",
   "execution_count": 2,
   "id": "78ed87ea",
   "metadata": {},
   "outputs": [
    {
     "name": "stderr",
     "output_type": "stream",
     "text": [
      "/tmp/ipykernel_57525/3088015952.py:1: FutureWarning: Inferring datetime64[ns] from data containing strings is deprecated and will be removed in a future version. To retain the old behavior explicitly pass Series(data, dtype=datetime64[ns])\n",
      "  data_1 = pd.read_excel('DATA.xlsx', sheet_name=0)\n"
     ]
    }
   ],
   "source": [
    "data_1 = pd.read_excel('DATA.xlsx', sheet_name=0)"
   ]
  },
  {
   "cell_type": "code",
   "execution_count": 3,
   "id": "2885dfdf",
   "metadata": {},
   "outputs": [],
   "source": [
    "data_street_en = data_1[(data_1['Формат магазина'] == 'Street')]\n",
    "data_street_ru = data_1[(data_1['Формат магазина'] == 'Стрит')]"
   ]
  },
  {
   "cell_type": "code",
   "execution_count": 4,
   "id": "3d4ae0e6",
   "metadata": {},
   "outputs": [],
   "source": [
    "data_street_en = data_street_en[(data_street_en['Выборка'] == 'Тестовая')].index\n",
    "data_street_ru = data_street_ru[(data_street_ru['Выборка'] == 'Тестовая')].index"
   ]
  },
  {
   "cell_type": "code",
   "execution_count": 5,
   "id": "a7946503",
   "metadata": {},
   "outputs": [],
   "source": [
    "count_street = data_street_en.shape[0] + data_street_ru.shape[0]"
   ]
  },
  {
   "cell_type": "code",
   "execution_count": 6,
   "id": "5f9fd9b8",
   "metadata": {},
   "outputs": [
    {
     "data": {
      "text/plain": [
       "6"
      ]
     },
     "execution_count": 6,
     "metadata": {},
     "output_type": "execute_result"
    }
   ],
   "source": [
    "count_street"
   ]
  },
  {
   "cell_type": "code",
   "execution_count": 7,
   "id": "fcc08beb",
   "metadata": {},
   "outputs": [],
   "source": [
    "data_2 = pd.read_excel('DATA.xlsx', sheet_name=1)"
   ]
  },
  {
   "cell_type": "code",
   "execution_count": 8,
   "id": "42a8beba",
   "metadata": {},
   "outputs": [],
   "source": [
    "df = pd.merge(data_1, data_2) "
   ]
  },
  {
   "cell_type": "code",
   "execution_count": 9,
   "id": "e6bc9c86",
   "metadata": {},
   "outputs": [],
   "source": [
    "cols = ['2016-01-01', '2016-02-01', '2016-03-01', '2016-04-01', '2016-05-01', '2016-06-01', \n",
    "        '2016-07-01', '2016-08-01', '2016-09-01', '2016-10-01', '2016-11-01', '2016-12-01']\n",
    "df_ = df[cols]"
   ]
  },
  {
   "cell_type": "code",
   "execution_count": 10,
   "id": "b337ec96",
   "metadata": {},
   "outputs": [],
   "source": [
    "# df[cols] = df[cols].astype('str')\n",
    "mean_ = df[(df['Формат магазина'] == 'Мини ТЦ')]"
   ]
  },
  {
   "cell_type": "code",
   "execution_count": 11,
   "id": "cdbc18a4",
   "metadata": {},
   "outputs": [],
   "source": [
    "df_mean = mean_[cols]"
   ]
  },
  {
   "cell_type": "code",
   "execution_count": 12,
   "id": "de179e50",
   "metadata": {},
   "outputs": [],
   "source": [
    "df_mean = df_mean.astype('float64')"
   ]
  },
  {
   "cell_type": "code",
   "execution_count": 13,
   "id": "2bf33afb",
   "metadata": {},
   "outputs": [],
   "source": [
    "val_2 =df_mean.mean().sum()/12"
   ]
  },
  {
   "cell_type": "code",
   "execution_count": 14,
   "id": "2fb2b373",
   "metadata": {},
   "outputs": [],
   "source": [
    "free_parking_magazines = data_1[(data_1['Парковка'] == 'бесплатная парковка')]"
   ]
  },
  {
   "cell_type": "code",
   "execution_count": 15,
   "id": "14bd6823",
   "metadata": {},
   "outputs": [],
   "source": [
    "count_free = free_parking_magazines.shape[0]"
   ]
  },
  {
   "cell_type": "code",
   "execution_count": 16,
   "id": "ff796a9b",
   "metadata": {},
   "outputs": [
    {
     "name": "stdout",
     "output_type": "stream",
     "text": [
      "6\n",
      "336899.59857713565\n",
      "156\n"
     ]
    }
   ],
   "source": [
    "print(count_street)\n",
    "print(val_2)\n",
    "print(count_free)"
   ]
  },
  {
   "cell_type": "markdown",
   "id": "c589e7b6",
   "metadata": {},
   "source": [
    "# Ответы"
   ]
  },
  {
   "cell_type": "markdown",
   "id": "6835829c",
   "metadata": {},
   "source": [
    "Таким образом. После небольших вычислений можно дать ответы на поставленные задачи:\n",
    "1)Сколько магазинов формата стрит в тестовой выборке?\n",
    "2)Какова средняя выручка магазинов формата мини ТЦ за 2016 год?\n",
    "3)Сколько магазинов с бесплатной парковкой?\n",
    "\n",
    "\n",
    "Ответы получились следующие. Среди всех магазинов, формата стрит в тестовой выборке 6 шт.\n",
    "Средняя выручка магазинов формата мини ТЦ за 2016 год 336899.59857713565. Число не округлено, т.к. не известна валюта в которой представленны числа и размерность.\n",
    "Магазинов с бесплатной парковкой всего 156 шт."
   ]
  },
  {
   "cell_type": "code",
   "execution_count": null,
   "id": "655b34de",
   "metadata": {},
   "outputs": [],
   "source": []
  }
 ],
 "metadata": {
  "kernelspec": {
   "display_name": "Python 3 (ipykernel)",
   "language": "python",
   "name": "python3"
  },
  "language_info": {
   "codemirror_mode": {
    "name": "ipython",
    "version": 3
   },
   "file_extension": ".py",
   "mimetype": "text/x-python",
   "name": "python",
   "nbconvert_exporter": "python",
   "pygments_lexer": "ipython3",
   "version": "3.10.4"
  }
 },
 "nbformat": 4,
 "nbformat_minor": 5
}
